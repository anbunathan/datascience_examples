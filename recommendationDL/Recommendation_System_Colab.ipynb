{
  "nbformat": 4,
  "nbformat_minor": 0,
  "metadata": {
    "kernelspec": {
      "display_name": "Python 3",
      "language": "python",
      "name": "python3"
    },
    "language_info": {
      "codemirror_mode": {
        "name": "ipython",
        "version": 3
      },
      "file_extension": ".py",
      "mimetype": "text/x-python",
      "name": "python",
      "nbconvert_exporter": "python",
      "pygments_lexer": "ipython3",
      "version": "3.6.6"
    },
    "colab": {
      "name": "Recommendation System.ipynb",
      "provenance": [],
      "collapsed_sections": [],
      "toc_visible": true
    },
    "accelerator": "GPU"
  },
  "cells": [
    {
      "cell_type": "markdown",
      "metadata": {
        "id": "_Fet2tXldEAK"
      },
      "source": [
        "# Book Recommendation System\n",
        "A recommendation system seeks to predict the rating or preference a user would give to an item given his old item ratings or preferences. Recommendation systems are used by pretty much every major company in order to enhance the quality of their services."
      ]
    },
    {
      "cell_type": "code",
      "metadata": {
        "id": "JUhnbOX7dEAs"
      },
      "source": [
        "import numpy as np\n",
        "import pandas as pd\n",
        "import matplotlib.pyplot as plt\n",
        "import os\n",
        "import warnings\n",
        "\n",
        "from keras.layers import Input, Embedding, Flatten, Dot, Dense, Concatenate\n",
        "from keras.models import Model\n",
        "\n",
        "warnings.filterwarnings('ignore')\n",
        "%matplotlib inline"
      ],
      "execution_count": 1,
      "outputs": []
    },
    {
      "cell_type": "code",
      "metadata": {
        "colab": {
          "base_uri": "https://localhost:8080/"
        },
        "id": "4ryB4RabgmiG",
        "outputId": "c5bce9f5-918c-4c25-9c52-e5c2fe65f733"
      },
      "source": [
        "from google.colab import drive\r\n",
        "drive.mount('/content/gdrive')"
      ],
      "execution_count": 12,
      "outputs": [
        {
          "output_type": "stream",
          "text": [
            "Mounted at /content/gdrive\n"
          ],
          "name": "stdout"
        }
      ]
    },
    {
      "cell_type": "markdown",
      "metadata": {
        "id": "7aRm-sQLdEAy"
      },
      "source": [
        "## Loading in data"
      ]
    },
    {
      "cell_type": "code",
      "metadata": {
        "id": "sSavFtXcdEA0"
      },
      "source": [
        "#PC Execution\r\n",
        "dataset = pd.read_csv('D:\\Business\\RecommenderSystem\\Recommendation%20System/ratings.csv')"
      ],
      "execution_count": null,
      "outputs": []
    },
    {
      "cell_type": "code",
      "metadata": {
        "id": "tBGELOHTkDs3"
      },
      "source": [
        "#Copy from google drive\r\n",
        "!cp /content/gdrive/My\\ Drive/ratings.csv ."
      ],
      "execution_count": null,
      "outputs": []
    },
    {
      "cell_type": "code",
      "metadata": {
        "colab": {
          "base_uri": "https://localhost:8080/"
        },
        "id": "nfU08cPzfsIj",
        "outputId": "557273aa-8f17-4adb-e024-26acc31e686e"
      },
      "source": [
        "#Fast and big data copy\r\n",
        "!wget --load-cookies /tmp/cookies.txt \"https://docs.google.com/uc?export=download&confirm=$(wget --quiet --save-cookies /tmp/cookies.txt --keep-session-cookies --no-check-certificate 'https://docs.google.com/uc?export=download&id=1sATKzixgdJaDvR1-zdFb3vo1XFGH9Ggu' -O- | sed -rn 's/.*confirm=([0-9A-Za-z_]+).*/\\1\\n/p')&id=1sATKzixgdJaDvR1-zdFb3vo1XFGH9Ggu\" -O ratings.csv && rm -rf /tmp/cookies.txt"
      ],
      "execution_count": 44,
      "outputs": [
        {
          "output_type": "stream",
          "text": [
            "--2021-01-05 08:35:37--  https://docs.google.com/uc?export=download&confirm=&id=1sATKzixgdJaDvR1-zdFb3vo1XFGH9Ggu\n",
            "Resolving docs.google.com (docs.google.com)... 74.125.20.102, 74.125.20.100, 74.125.20.101, ...\n",
            "Connecting to docs.google.com (docs.google.com)|74.125.20.102|:443... connected.\n",
            "HTTP request sent, awaiting response... 302 Moved Temporarily\n",
            "Location: https://doc-0o-4c-docs.googleusercontent.com/docs/securesc/ufl8sdal7vi1m2ls2sd0vdtge8cmj1np/fa4t1upn97eg0nekr2i1iq7nt444l8v1/1609835700000/17707936527307082955/04280405981389771738Z/1sATKzixgdJaDvR1-zdFb3vo1XFGH9Ggu?e=download [following]\n",
            "--2021-01-05 08:35:38--  https://doc-0o-4c-docs.googleusercontent.com/docs/securesc/ufl8sdal7vi1m2ls2sd0vdtge8cmj1np/fa4t1upn97eg0nekr2i1iq7nt444l8v1/1609835700000/17707936527307082955/04280405981389771738Z/1sATKzixgdJaDvR1-zdFb3vo1XFGH9Ggu?e=download\n",
            "Resolving doc-0o-4c-docs.googleusercontent.com (doc-0o-4c-docs.googleusercontent.com)... 74.125.142.132, 2607:f8b0:400e:c08::84\n",
            "Connecting to doc-0o-4c-docs.googleusercontent.com (doc-0o-4c-docs.googleusercontent.com)|74.125.142.132|:443... connected.\n",
            "HTTP request sent, awaiting response... 302 Found\n",
            "Location: https://docs.google.com/nonceSigner?nonce=fnd6ebvh3v0ne&continue=https://doc-0o-4c-docs.googleusercontent.com/docs/securesc/ufl8sdal7vi1m2ls2sd0vdtge8cmj1np/fa4t1upn97eg0nekr2i1iq7nt444l8v1/1609835700000/17707936527307082955/04280405981389771738Z/1sATKzixgdJaDvR1-zdFb3vo1XFGH9Ggu?e%3Ddownload&hash=40a7ok68b51efvmirjbqp78kipgaav4o [following]\n",
            "--2021-01-05 08:35:38--  https://docs.google.com/nonceSigner?nonce=fnd6ebvh3v0ne&continue=https://doc-0o-4c-docs.googleusercontent.com/docs/securesc/ufl8sdal7vi1m2ls2sd0vdtge8cmj1np/fa4t1upn97eg0nekr2i1iq7nt444l8v1/1609835700000/17707936527307082955/04280405981389771738Z/1sATKzixgdJaDvR1-zdFb3vo1XFGH9Ggu?e%3Ddownload&hash=40a7ok68b51efvmirjbqp78kipgaav4o\n",
            "Connecting to docs.google.com (docs.google.com)|74.125.20.102|:443... connected.\n",
            "HTTP request sent, awaiting response... 302 Found\n",
            "Location: https://doc-0o-4c-docs.googleusercontent.com/docs/securesc/ufl8sdal7vi1m2ls2sd0vdtge8cmj1np/fa4t1upn97eg0nekr2i1iq7nt444l8v1/1609835700000/17707936527307082955/04280405981389771738Z/1sATKzixgdJaDvR1-zdFb3vo1XFGH9Ggu?e=download&nonce=fnd6ebvh3v0ne&user=04280405981389771738Z&hash=jgv4225rav42g3r5f9jkjn4pqnivb2eb [following]\n",
            "--2021-01-05 08:35:38--  https://doc-0o-4c-docs.googleusercontent.com/docs/securesc/ufl8sdal7vi1m2ls2sd0vdtge8cmj1np/fa4t1upn97eg0nekr2i1iq7nt444l8v1/1609835700000/17707936527307082955/04280405981389771738Z/1sATKzixgdJaDvR1-zdFb3vo1XFGH9Ggu?e=download&nonce=fnd6ebvh3v0ne&user=04280405981389771738Z&hash=jgv4225rav42g3r5f9jkjn4pqnivb2eb\n",
            "Connecting to doc-0o-4c-docs.googleusercontent.com (doc-0o-4c-docs.googleusercontent.com)|74.125.142.132|:443... connected.\n",
            "HTTP request sent, awaiting response... 200 OK\n",
            "Length: unspecified [text/csv]\n",
            "Saving to: ‘ratings.csv’\n",
            "\n",
            "ratings.csv             [ <=>                ]  11.86M  --.-KB/s    in 0.05s   \n",
            "\n",
            "2021-01-05 08:35:38 (260 MB/s) - ‘ratings.csv’ saved [12437766]\n",
            "\n"
          ],
          "name": "stdout"
        }
      ]
    },
    {
      "cell_type": "code",
      "metadata": {
        "id": "HlmJZhmreAzS"
      },
      "source": [
        "#Colab execution\r\n",
        "dataset = pd.read_csv('ratings.csv')"
      ],
      "execution_count": 45,
      "outputs": []
    },
    {
      "cell_type": "code",
      "metadata": {
        "colab": {
          "base_uri": "https://localhost:8080/",
          "height": 197
        },
        "id": "OFj6JYF_dEA1",
        "outputId": "c59e6bc4-a992-4ef3-937d-af3c6c4a92d6"
      },
      "source": [
        "dataset.head()"
      ],
      "execution_count": 46,
      "outputs": [
        {
          "output_type": "execute_result",
          "data": {
            "text/html": [
              "<div>\n",
              "<style scoped>\n",
              "    .dataframe tbody tr th:only-of-type {\n",
              "        vertical-align: middle;\n",
              "    }\n",
              "\n",
              "    .dataframe tbody tr th {\n",
              "        vertical-align: top;\n",
              "    }\n",
              "\n",
              "    .dataframe thead th {\n",
              "        text-align: right;\n",
              "    }\n",
              "</style>\n",
              "<table border=\"1\" class=\"dataframe\">\n",
              "  <thead>\n",
              "    <tr style=\"text-align: right;\">\n",
              "      <th></th>\n",
              "      <th>book_id</th>\n",
              "      <th>user_id</th>\n",
              "      <th>rating</th>\n",
              "    </tr>\n",
              "  </thead>\n",
              "  <tbody>\n",
              "    <tr>\n",
              "      <th>0</th>\n",
              "      <td>1</td>\n",
              "      <td>314</td>\n",
              "      <td>5</td>\n",
              "    </tr>\n",
              "    <tr>\n",
              "      <th>1</th>\n",
              "      <td>1</td>\n",
              "      <td>439</td>\n",
              "      <td>3</td>\n",
              "    </tr>\n",
              "    <tr>\n",
              "      <th>2</th>\n",
              "      <td>1</td>\n",
              "      <td>588</td>\n",
              "      <td>5</td>\n",
              "    </tr>\n",
              "    <tr>\n",
              "      <th>3</th>\n",
              "      <td>1</td>\n",
              "      <td>1169</td>\n",
              "      <td>4</td>\n",
              "    </tr>\n",
              "    <tr>\n",
              "      <th>4</th>\n",
              "      <td>1</td>\n",
              "      <td>1185</td>\n",
              "      <td>4</td>\n",
              "    </tr>\n",
              "  </tbody>\n",
              "</table>\n",
              "</div>"
            ],
            "text/plain": [
              "   book_id  user_id  rating\n",
              "0        1      314       5\n",
              "1        1      439       3\n",
              "2        1      588       5\n",
              "3        1     1169       4\n",
              "4        1     1185       4"
            ]
          },
          "metadata": {
            "tags": []
          },
          "execution_count": 46
        }
      ]
    },
    {
      "cell_type": "code",
      "metadata": {
        "colab": {
          "base_uri": "https://localhost:8080/"
        },
        "id": "V2--uy3vdEA9",
        "outputId": "51915c61-2e5c-4f13-db23-01df4362ceba"
      },
      "source": [
        "dataset.shape"
      ],
      "execution_count": 4,
      "outputs": [
        {
          "output_type": "execute_result",
          "data": {
            "text/plain": [
              "(981756, 3)"
            ]
          },
          "metadata": {
            "tags": []
          },
          "execution_count": 4
        }
      ]
    },
    {
      "cell_type": "code",
      "metadata": {
        "id": "yxPJYDRPdEA-"
      },
      "source": [
        "from sklearn.model_selection import train_test_split\n",
        "train, test = train_test_split(dataset, test_size=0.2, random_state=42)"
      ],
      "execution_count": 5,
      "outputs": []
    },
    {
      "cell_type": "code",
      "metadata": {
        "colab": {
          "base_uri": "https://localhost:8080/",
          "height": 197
        },
        "id": "exk5L8vfdEA_",
        "outputId": "1ee6e215-32e8-45b3-bb78-db49cf9bacee"
      },
      "source": [
        "train.head()"
      ],
      "execution_count": 6,
      "outputs": [
        {
          "output_type": "execute_result",
          "data": {
            "text/html": [
              "<div>\n",
              "<style scoped>\n",
              "    .dataframe tbody tr th:only-of-type {\n",
              "        vertical-align: middle;\n",
              "    }\n",
              "\n",
              "    .dataframe tbody tr th {\n",
              "        vertical-align: top;\n",
              "    }\n",
              "\n",
              "    .dataframe thead th {\n",
              "        text-align: right;\n",
              "    }\n",
              "</style>\n",
              "<table border=\"1\" class=\"dataframe\">\n",
              "  <thead>\n",
              "    <tr style=\"text-align: right;\">\n",
              "      <th></th>\n",
              "      <th>book_id</th>\n",
              "      <th>user_id</th>\n",
              "      <th>rating</th>\n",
              "    </tr>\n",
              "  </thead>\n",
              "  <tbody>\n",
              "    <tr>\n",
              "      <th>341848</th>\n",
              "      <td>3423</td>\n",
              "      <td>4608</td>\n",
              "      <td>2</td>\n",
              "    </tr>\n",
              "    <tr>\n",
              "      <th>964349</th>\n",
              "      <td>9811</td>\n",
              "      <td>36373</td>\n",
              "      <td>5</td>\n",
              "    </tr>\n",
              "    <tr>\n",
              "      <th>645459</th>\n",
              "      <td>6485</td>\n",
              "      <td>2957</td>\n",
              "      <td>4</td>\n",
              "    </tr>\n",
              "    <tr>\n",
              "      <th>74960</th>\n",
              "      <td>750</td>\n",
              "      <td>42400</td>\n",
              "      <td>3</td>\n",
              "    </tr>\n",
              "    <tr>\n",
              "      <th>358670</th>\n",
              "      <td>3591</td>\n",
              "      <td>36886</td>\n",
              "      <td>5</td>\n",
              "    </tr>\n",
              "  </tbody>\n",
              "</table>\n",
              "</div>"
            ],
            "text/plain": [
              "        book_id  user_id  rating\n",
              "341848     3423     4608       2\n",
              "964349     9811    36373       5\n",
              "645459     6485     2957       4\n",
              "74960       750    42400       3\n",
              "358670     3591    36886       5"
            ]
          },
          "metadata": {
            "tags": []
          },
          "execution_count": 6
        }
      ]
    },
    {
      "cell_type": "code",
      "metadata": {
        "colab": {
          "base_uri": "https://localhost:8080/",
          "height": 197
        },
        "id": "84GHpoqsdEBA",
        "outputId": "26a516ea-ed92-4a0c-ef15-ff9caa368004"
      },
      "source": [
        "test.head()"
      ],
      "execution_count": 7,
      "outputs": [
        {
          "output_type": "execute_result",
          "data": {
            "text/html": [
              "<div>\n",
              "<style scoped>\n",
              "    .dataframe tbody tr th:only-of-type {\n",
              "        vertical-align: middle;\n",
              "    }\n",
              "\n",
              "    .dataframe tbody tr th {\n",
              "        vertical-align: top;\n",
              "    }\n",
              "\n",
              "    .dataframe thead th {\n",
              "        text-align: right;\n",
              "    }\n",
              "</style>\n",
              "<table border=\"1\" class=\"dataframe\">\n",
              "  <thead>\n",
              "    <tr style=\"text-align: right;\">\n",
              "      <th></th>\n",
              "      <th>book_id</th>\n",
              "      <th>user_id</th>\n",
              "      <th>rating</th>\n",
              "    </tr>\n",
              "  </thead>\n",
              "  <tbody>\n",
              "    <tr>\n",
              "      <th>646451</th>\n",
              "      <td>6495</td>\n",
              "      <td>19643</td>\n",
              "      <td>5</td>\n",
              "    </tr>\n",
              "    <tr>\n",
              "      <th>614851</th>\n",
              "      <td>6175</td>\n",
              "      <td>8563</td>\n",
              "      <td>4</td>\n",
              "    </tr>\n",
              "    <tr>\n",
              "      <th>974393</th>\n",
              "      <td>9920</td>\n",
              "      <td>52110</td>\n",
              "      <td>3</td>\n",
              "    </tr>\n",
              "    <tr>\n",
              "      <th>21471</th>\n",
              "      <td>215</td>\n",
              "      <td>33864</td>\n",
              "      <td>5</td>\n",
              "    </tr>\n",
              "    <tr>\n",
              "      <th>272540</th>\n",
              "      <td>2728</td>\n",
              "      <td>16587</td>\n",
              "      <td>3</td>\n",
              "    </tr>\n",
              "  </tbody>\n",
              "</table>\n",
              "</div>"
            ],
            "text/plain": [
              "        book_id  user_id  rating\n",
              "646451     6495    19643       5\n",
              "614851     6175     8563       4\n",
              "974393     9920    52110       3\n",
              "21471       215    33864       5\n",
              "272540     2728    16587       3"
            ]
          },
          "metadata": {
            "tags": []
          },
          "execution_count": 7
        }
      ]
    },
    {
      "cell_type": "code",
      "metadata": {
        "colab": {
          "base_uri": "https://localhost:8080/"
        },
        "id": "P1iAALtvdEBB",
        "outputId": "f6e0c3fa-6d43-46bf-e3f5-dece8d45457d"
      },
      "source": [
        "n_users = len(dataset.user_id.unique())\n",
        "n_users"
      ],
      "execution_count": 8,
      "outputs": [
        {
          "output_type": "execute_result",
          "data": {
            "text/plain": [
              "53424"
            ]
          },
          "metadata": {
            "tags": []
          },
          "execution_count": 8
        }
      ]
    },
    {
      "cell_type": "code",
      "metadata": {
        "colab": {
          "base_uri": "https://localhost:8080/"
        },
        "id": "fWj2Cg5XdEBC",
        "outputId": "fbd080f4-6e31-4914-9769-2c5703c6a721"
      },
      "source": [
        "n_books = len(dataset.book_id.unique())\n",
        "n_books"
      ],
      "execution_count": 9,
      "outputs": [
        {
          "output_type": "execute_result",
          "data": {
            "text/plain": [
              "10000"
            ]
          },
          "metadata": {
            "tags": []
          },
          "execution_count": 9
        }
      ]
    },
    {
      "cell_type": "markdown",
      "metadata": {
        "id": "YmWnUCI8dEBE"
      },
      "source": [
        "## Creating dot product model\n",
        "Most recommendation systems are build using a simple dot product as shown below but newer ones are now implementing a neural network instead of the simple dot product."
      ]
    },
    {
      "cell_type": "code",
      "metadata": {
        "id": "1K7x3ErydEBF"
      },
      "source": [
        "# creating book embedding path\n",
        "book_input = Input(shape=[1], name=\"Book-Input\")\n",
        "book_embedding = Embedding(n_books+1, 5, name=\"Book-Embedding\")(book_input)\n",
        "book_vec = Flatten(name=\"Flatten-Books\")(book_embedding)\n",
        "\n",
        "# creating user embedding path\n",
        "user_input = Input(shape=[1], name=\"User-Input\")\n",
        "user_embedding = Embedding(n_users+1, 5, name=\"User-Embedding\")(user_input)\n",
        "user_vec = Flatten(name=\"Flatten-Users\")(user_embedding)\n",
        "\n",
        "# performing dot product and creating model\n",
        "prod = Dot(name=\"Dot-Product\", axes=1)([book_vec, user_vec])\n",
        "model = Model([user_input, book_input], prod)\n",
        "model.compile('adam', 'mean_squared_error')"
      ],
      "execution_count": 10,
      "outputs": []
    },
    {
      "cell_type": "code",
      "metadata": {
        "id": "peRGC_8qgr8N"
      },
      "source": [
        "!cp /content/gdrive/My\\ Drive/regression_model.h5 ."
      ],
      "execution_count": null,
      "outputs": []
    },
    {
      "cell_type": "code",
      "metadata": {
        "scrolled": true,
        "colab": {
          "base_uri": "https://localhost:8080/",
          "height": 456
        },
        "id": "8ss1LDCQdEBG",
        "outputId": "fd571f85-1c22-4e43-f8d9-8e4bb542c86f"
      },
      "source": [
        "from keras.models import load_model\n",
        "\n",
        "if os.path.exists('regression_model.h5'):\n",
        "    model = load_model('regression_model.h5')\n",
        "else:\n",
        "    history = model.fit([train.user_id, train.book_id], train.rating, epochs=5, verbose=1)\n",
        "    model.save('regression_model.h5')\n",
        "    plt.plot(history.history['loss'])\n",
        "    plt.xlabel(\"Epochs\")\n",
        "    plt.ylabel(\"Training Error\")"
      ],
      "execution_count": 11,
      "outputs": [
        {
          "output_type": "stream",
          "text": [
            "Epoch 1/5\n",
            "24544/24544 [==============================] - 114s 5ms/step - loss: 15.3495\n",
            "Epoch 2/5\n",
            "24544/24544 [==============================] - 111s 5ms/step - loss: 6.6226\n",
            "Epoch 3/5\n",
            "24544/24544 [==============================] - 110s 4ms/step - loss: 2.2430\n",
            "Epoch 4/5\n",
            "24544/24544 [==============================] - 109s 4ms/step - loss: 1.3434\n",
            "Epoch 5/5\n",
            "24544/24544 [==============================] - 106s 4ms/step - loss: 1.0125\n"
          ],
          "name": "stdout"
        },
        {
          "output_type": "display_data",
          "data": {
            "image/png": "[encoded data removed]",
            "text/plain": [
              "<Figure size 432x288 with 1 Axes>"
            ]
          },
          "metadata": {
            "tags": [],
            "needs_background": "light"
          }
        }
      ]
    },
    {
      "cell_type": "code",
      "metadata": {
        "id": "ipDpjxgzhE10"
      },
      "source": [
        "!cp regression_model.h5 /content/gdrive/My\\ Drive/"
      ],
      "execution_count": 14,
      "outputs": []
    },
    {
      "cell_type": "code",
      "metadata": {
        "colab": {
          "base_uri": "https://localhost:8080/"
        },
        "id": "oaIQLpzBdEBd",
        "outputId": "d39a2ac6-a9cd-4e01-cd4f-1e0096ce0ab0"
      },
      "source": [
        "model.evaluate([test.user_id, test.book_id], test.rating)"
      ],
      "execution_count": 15,
      "outputs": [
        {
          "output_type": "stream",
          "text": [
            "6136/6136 [==============================] - 8s 1ms/step - loss: 1.2393\n"
          ],
          "name": "stdout"
        },
        {
          "output_type": "execute_result",
          "data": {
            "text/plain": [
              "1.2392547130584717"
            ]
          },
          "metadata": {
            "tags": []
          },
          "execution_count": 15
        }
      ]
    },
    {
      "cell_type": "code",
      "metadata": {
        "colab": {
          "base_uri": "https://localhost:8080/"
        },
        "id": "lXkA0v7UdEBe",
        "outputId": "2186b32f-77eb-49dd-ce1a-b2a504947719"
      },
      "source": [
        "predictions = model.predict([test.user_id.head(10), test.book_id.head(10)])\n",
        "\n",
        "[print(predictions[i], test.rating.iloc[i]) for i in range(0,10)]"
      ],
      "execution_count": 16,
      "outputs": [
        {
          "output_type": "stream",
          "text": [
            "[5.175034] 5\n",
            "[4.1002064] 4\n",
            "[3.5252862] 3\n",
            "[4.2581763] 5\n",
            "[3.2526455] 3\n",
            "[3.9032307] 3\n",
            "[4.015732] 3\n",
            "[4.430905] 4\n",
            "[4.501182] 3\n",
            "[4.1049314] 5\n"
          ],
          "name": "stdout"
        },
        {
          "output_type": "execute_result",
          "data": {
            "text/plain": [
              "[None, None, None, None, None, None, None, None, None, None]"
            ]
          },
          "metadata": {
            "tags": []
          },
          "execution_count": 16
        }
      ]
    },
    {
      "cell_type": "markdown",
      "metadata": {
        "id": "6fq2xYArdEBf"
      },
      "source": [
        "## Creating Neural Network\n",
        "Neural Networks proved there effectivness for almost every machine learning problem as of now and they also perform exceptionally well for recommendation systems."
      ]
    },
    {
      "cell_type": "code",
      "metadata": {
        "id": "q-gPaEzudEBg"
      },
      "source": [
        "# creating book embedding path\n",
        "book_input = Input(shape=[1], name=\"Book-Input\")\n",
        "book_embedding = Embedding(n_books+1, 5, name=\"Book-Embedding\")(book_input)\n",
        "book_vec = Flatten(name=\"Flatten-Books\")(book_embedding)\n",
        "\n",
        "# creating user embedding path\n",
        "user_input = Input(shape=[1], name=\"User-Input\")\n",
        "user_embedding = Embedding(n_users+1, 5, name=\"User-Embedding\")(user_input)\n",
        "user_vec = Flatten(name=\"Flatten-Users\")(user_embedding)\n",
        "\n",
        "# concatenate features\n",
        "conc = Concatenate()([book_vec, user_vec])\n",
        "\n",
        "# add fully-connected-layers\n",
        "fc1 = Dense(128, activation='relu')(conc)\n",
        "fc2 = Dense(32, activation='relu')(fc1)\n",
        "out = Dense(1)(fc2)\n",
        "\n",
        "# Create model and compile it\n",
        "model2 = Model([user_input, book_input], out)\n",
        "model2.compile('adam', 'mean_squared_error')"
      ],
      "execution_count": 17,
      "outputs": []
    },
    {
      "cell_type": "code",
      "metadata": {
        "id": "0Y8W92CkjXKU"
      },
      "source": [
        "!cp /content/gdrive/My\\ Drive/regression_model2.h5 ."
      ],
      "execution_count": null,
      "outputs": []
    },
    {
      "cell_type": "code",
      "metadata": {
        "colab": {
          "base_uri": "https://localhost:8080/",
          "height": 456
        },
        "id": "rliTAfledEBi",
        "outputId": "f97c0073-efb1-4710-8778-6271711cd643"
      },
      "source": [
        "from keras.models import load_model\n",
        "\n",
        "if os.path.exists('regression_model2.h5'):\n",
        "    model2 = load_model('regression_model2.h5')\n",
        "else:\n",
        "    history = model2.fit([train.user_id, train.book_id], train.rating, epochs=5, verbose=1)\n",
        "    model2.save('regression_model2.h5')\n",
        "    plt.plot(history.history['loss'])\n",
        "    plt.xlabel(\"Epochs\")\n",
        "    plt.ylabel(\"Training Error\")"
      ],
      "execution_count": 18,
      "outputs": [
        {
          "output_type": "stream",
          "text": [
            "Epoch 1/5\n",
            "24544/24544 [==============================] - 112s 5ms/step - loss: 1.0098\n",
            "Epoch 2/5\n",
            "24544/24544 [==============================] - 110s 4ms/step - loss: 0.6808\n",
            "Epoch 3/5\n",
            "24544/24544 [==============================] - 109s 4ms/step - loss: 0.6446\n",
            "Epoch 4/5\n",
            "24544/24544 [==============================] - 110s 4ms/step - loss: 0.6205\n",
            "Epoch 5/5\n",
            "24544/24544 [==============================] - 110s 4ms/step - loss: 0.5988\n"
          ],
          "name": "stdout"
        },
        {
          "output_type": "display_data",
          "data": {
            "image/png": "[encoded data removed]",
            "text/plain": [
              "<Figure size 432x288 with 1 Axes>"
            ]
          },
          "metadata": {
            "tags": [],
            "needs_background": "light"
          }
        }
      ]
    },
    {
      "cell_type": "code",
      "metadata": {
        "id": "8gbHNpU8jkkw"
      },
      "source": [
        "!cp regression_model2.h5 /content/gdrive/My\\ Drive/"
      ],
      "execution_count": 19,
      "outputs": []
    },
    {
      "cell_type": "code",
      "metadata": {
        "colab": {
          "base_uri": "https://localhost:8080/"
        },
        "id": "6f2AoIHzdEBj",
        "outputId": "78326aea-cac2-4828-f95f-46fe80f85e3a"
      },
      "source": [
        "model2.evaluate([test.user_id, test.book_id], test.rating)"
      ],
      "execution_count": 20,
      "outputs": [
        {
          "output_type": "stream",
          "text": [
            "6136/6136 [==============================] - 9s 1ms/step - loss: 0.7113\n"
          ],
          "name": "stdout"
        },
        {
          "output_type": "execute_result",
          "data": {
            "text/plain": [
              "0.7113286256790161"
            ]
          },
          "metadata": {
            "tags": []
          },
          "execution_count": 20
        }
      ]
    },
    {
      "cell_type": "code",
      "metadata": {
        "colab": {
          "base_uri": "https://localhost:8080/"
        },
        "id": "AqewfWmYdEBk",
        "outputId": "f1474778-2f1d-414e-d4e5-2ef3537eb0d2"
      },
      "source": [
        "predictions = model2.predict([test.user_id.head(10), test.book_id.head(10)])\n",
        "\n",
        "[print(predictions[i], test.rating.iloc[i]) for i in range(0,10)]"
      ],
      "execution_count": 21,
      "outputs": [
        {
          "output_type": "stream",
          "text": [
            "[4.955114] 5\n",
            "[3.7410073] 4\n",
            "[3.5804563] 3\n",
            "[3.9991403] 5\n",
            "[3.3866596] 3\n",
            "[3.9169655] 3\n",
            "[3.5287724] 3\n",
            "[4.8281837] 4\n",
            "[4.211674] 3\n",
            "[4.0928082] 5\n"
          ],
          "name": "stdout"
        },
        {
          "output_type": "execute_result",
          "data": {
            "text/plain": [
              "[None, None, None, None, None, None, None, None, None, None]"
            ]
          },
          "metadata": {
            "tags": []
          },
          "execution_count": 21
        }
      ]
    },
    {
      "cell_type": "markdown",
      "metadata": {
        "id": "diqn4xoAdEBl"
      },
      "source": [
        "## Visualizing Embeddings\n",
        "Embeddings are weights that are learned to represent some specific variable like books and user in our case and therefore we can not only use them to get good results on our problem but also to extract inside about our data."
      ]
    },
    {
      "cell_type": "code",
      "metadata": {
        "id": "xlRbfv7JdEBn"
      },
      "source": [
        "# Extract embeddings\n",
        "book_em = model.get_layer('Book-Embedding')\n",
        "book_em_weights = book_em.get_weights()[0]"
      ],
      "execution_count": 22,
      "outputs": []
    },
    {
      "cell_type": "code",
      "metadata": {
        "colab": {
          "base_uri": "https://localhost:8080/"
        },
        "id": "WeR6GNDzdEBp",
        "outputId": "c8ae75af-5ccc-4f94-ebef-271b33c6c91c"
      },
      "source": [
        "book_em_weights[:5]"
      ],
      "execution_count": 23,
      "outputs": [
        {
          "output_type": "execute_result",
          "data": {
            "text/plain": [
              "array([[ 0.01048537, -0.00543468,  0.03530084,  0.04108896, -0.04885718],\n",
              "       [ 1.4161016 , -1.4599047 , -1.3991301 , -1.3742715 ,  1.3182114 ],\n",
              "       [ 1.3497986 , -1.2988579 , -1.419764  , -1.3070867 ,  1.3073328 ],\n",
              "       [ 0.80681306, -1.3031919 , -1.1812199 , -0.8713796 ,  0.6812337 ],\n",
              "       [ 1.4034513 , -1.3663654 , -1.4359453 , -1.4048501 ,  1.2579495 ]],\n",
              "      dtype=float32)"
            ]
          },
          "metadata": {
            "tags": []
          },
          "execution_count": 23
        }
      ]
    },
    {
      "cell_type": "code",
      "metadata": {
        "colab": {
          "base_uri": "https://localhost:8080/",
          "height": 282
        },
        "id": "9aGdpq5udEBq",
        "outputId": "078e82f1-a1e8-4cc9-d7fe-21d36cc49f77"
      },
      "source": [
        "#PCA = Principal Component Analysis\n",
        "from sklearn.decomposition import PCA\n",
        "import seaborn as sns\n",
        "\n",
        "pca = PCA(n_components=2)\n",
        "pca_result = pca.fit_transform(book_em_weights)\n",
        "sns.scatterplot(x=pca_result[:,0], y=pca_result[:,1])"
      ],
      "execution_count": 24,
      "outputs": [
        {
          "output_type": "execute_result",
          "data": {
            "text/plain": [
              "<matplotlib.axes._subplots.AxesSubplot at 0x7f96b6d9f8d0>"
            ]
          },
          "metadata": {
            "tags": []
          },
          "execution_count": 24
        },
        {
          "output_type": "display_data",
          "data": {
            "image/png": "[encoded data removed]",
            "text/plain": [
              "<Figure size 432x288 with 1 Axes>"
            ]
          },
          "metadata": {
            "tags": [],
            "needs_background": "light"
          }
        }
      ]
    },
    {
      "cell_type": "code",
      "metadata": {
        "colab": {
          "base_uri": "https://localhost:8080/"
        },
        "id": "eIBHdoxXdEBs",
        "outputId": "1c48c9b5-4638-4818-8e1f-136610541db1"
      },
      "source": [
        "book_em_weights = book_em_weights / np.linalg.norm(book_em_weights, axis = 1).reshape((-1, 1))\n",
        "book_em_weights[0][:10]\n",
        "np.sum(np.square(book_em_weights[0]))"
      ],
      "execution_count": 25,
      "outputs": [
        {
          "output_type": "execute_result",
          "data": {
            "text/plain": [
              "0.99999994"
            ]
          },
          "metadata": {
            "tags": []
          },
          "execution_count": 25
        }
      ]
    },
    {
      "cell_type": "code",
      "metadata": {
        "colab": {
          "base_uri": "https://localhost:8080/",
          "height": 282
        },
        "id": "fqd2giOZdEBt",
        "outputId": "635cb22a-6adc-4d46-ea3d-83c5b161d6a5"
      },
      "source": [
        "pca = PCA(n_components=2)\n",
        "pca_result = pca.fit_transform(book_em_weights)\n",
        "sns.scatterplot(x=pca_result[:,0], y=pca_result[:,1])"
      ],
      "execution_count": 27,
      "outputs": [
        {
          "output_type": "execute_result",
          "data": {
            "text/plain": [
              "<matplotlib.axes._subplots.AxesSubplot at 0x7f96b222a710>"
            ]
          },
          "metadata": {
            "tags": []
          },
          "execution_count": 27
        },
        {
          "output_type": "display_data",
          "data": {
            "image/png": "[encoded data removed]",
            "text/plain": [
              "<Figure size 432x288 with 1 Axes>"
            ]
          },
          "metadata": {
            "tags": [],
            "needs_background": "light"
          }
        }
      ]
    },
    {
      "cell_type": "code",
      "metadata": {
        "colab": {
          "base_uri": "https://localhost:8080/"
        },
        "id": "206gpmTMdEBu",
        "outputId": "c9d7c452-3986-4cc5-b6be-fb4e4de9616d"
      },
      "source": [
        "#TSNE = t-distributed stochastic neighbor embedding\n",
        "from sklearn.manifold import TSNE\n",
        "\n",
        "tsne = TSNE(n_components=2, verbose=1, perplexity=40, n_iter=300)\n",
        "tnse_results = tsne.fit_transform(book_em_weights)"
      ],
      "execution_count": 28,
      "outputs": [
        {
          "output_type": "stream",
          "text": [
            "[t-SNE] Computing 121 nearest neighbors...\n",
            "[t-SNE] Indexed 10001 samples in 0.007s...\n",
            "[t-SNE] Computed neighbors for 10001 samples in 0.485s...\n",
            "[t-SNE] Computed conditional probabilities for sample 1000 / 10001\n",
            "[t-SNE] Computed conditional probabilities for sample 2000 / 10001\n",
            "[t-SNE] Computed conditional probabilities for sample 3000 / 10001\n",
            "[t-SNE] Computed conditional probabilities for sample 4000 / 10001\n",
            "[t-SNE] Computed conditional probabilities for sample 5000 / 10001\n",
            "[t-SNE] Computed conditional probabilities for sample 6000 / 10001\n",
            "[t-SNE] Computed conditional probabilities for sample 7000 / 10001\n",
            "[t-SNE] Computed conditional probabilities for sample 8000 / 10001\n",
            "[t-SNE] Computed conditional probabilities for sample 9000 / 10001\n",
            "[t-SNE] Computed conditional probabilities for sample 10000 / 10001\n",
            "[t-SNE] Computed conditional probabilities for sample 10001 / 10001\n",
            "[t-SNE] Mean sigma: 0.031324\n",
            "[t-SNE] KL divergence after 250 iterations with early exaggeration: 76.515182\n",
            "[t-SNE] KL divergence after 300 iterations: 2.555202\n"
          ],
          "name": "stdout"
        }
      ]
    },
    {
      "cell_type": "code",
      "metadata": {
        "colab": {
          "base_uri": "https://localhost:8080/",
          "height": 282
        },
        "id": "EBw-g2ErdEBv",
        "outputId": "5965c6e4-fe59-405f-e3f2-4098fd8c140f"
      },
      "source": [
        "sns.scatterplot(x=tnse_results[:,0], y=tnse_results[:,1])"
      ],
      "execution_count": 29,
      "outputs": [
        {
          "output_type": "execute_result",
          "data": {
            "text/plain": [
              "<matplotlib.axes._subplots.AxesSubplot at 0x7f96d40472e8>"
            ]
          },
          "metadata": {
            "tags": []
          },
          "execution_count": 29
        },
        {
          "output_type": "display_data",
          "data": {
            "image/png": "[encoded data removed]",
            "text/plain": [
              "<Figure size 432x288 with 1 Axes>"
            ]
          },
          "metadata": {
            "tags": [],
            "needs_background": "light"
          }
        }
      ]
    },
    {
      "cell_type": "markdown",
      "metadata": {
        "id": "QFDW8Q7ddEBw"
      },
      "source": [
        "## Making Recommendations"
      ]
    },
    {
      "cell_type": "code",
      "metadata": {
        "colab": {
          "base_uri": "https://localhost:8080/"
        },
        "id": "A_q7cDrJdEBw",
        "outputId": "152a5141-6d90-4307-eff7-d6b2fce8d58c"
      },
      "source": [
        "# Creating dataset for making recommendations for the first user\n",
        "book_data = np.array(list(set(dataset.book_id)))\n",
        "book_data[:5]"
      ],
      "execution_count": 30,
      "outputs": [
        {
          "output_type": "execute_result",
          "data": {
            "text/plain": [
              "array([1, 2, 3, 4, 5])"
            ]
          },
          "metadata": {
            "tags": []
          },
          "execution_count": 30
        }
      ]
    },
    {
      "cell_type": "code",
      "metadata": {
        "colab": {
          "base_uri": "https://localhost:8080/"
        },
        "id": "4wg9X1MpdEBx",
        "outputId": "95e227bf-b91d-40f6-902d-660efaea3d9b"
      },
      "source": [
        "user = np.array([1 for i in range(len(book_data))])\n",
        "user[:5]"
      ],
      "execution_count": 31,
      "outputs": [
        {
          "output_type": "execute_result",
          "data": {
            "text/plain": [
              "array([1, 1, 1, 1, 1])"
            ]
          },
          "metadata": {
            "tags": []
          },
          "execution_count": 31
        }
      ]
    },
    {
      "cell_type": "code",
      "metadata": {
        "colab": {
          "base_uri": "https://localhost:8080/"
        },
        "id": "jcdNKOv7dEBz",
        "outputId": "a7121400-2f89-45ed-e91a-aca6af8fa433"
      },
      "source": [
        "predictions = model.predict([user, book_data])\n",
        "\n",
        "predictions = np.array([a[0] for a in predictions])\n",
        "\n",
        "recommended_book_ids = (-predictions).argsort()[:5]\n",
        "\n",
        "recommended_book_ids"
      ],
      "execution_count": 32,
      "outputs": [
        {
          "output_type": "execute_result",
          "data": {
            "text/plain": [
              "array([7638, 7152, 8258, 9841, 9872])"
            ]
          },
          "metadata": {
            "tags": []
          },
          "execution_count": 32
        }
      ]
    },
    {
      "cell_type": "markdown",
      "metadata": {
        "id": "w-2XUo-LpMuF"
      },
      "source": [
        ""
      ]
    },
    {
      "cell_type": "code",
      "metadata": {
        "colab": {
          "base_uri": "https://localhost:8080/"
        },
        "id": "j9fXpHffdEB0",
        "outputId": "34bce5b5-0aba-4b61-fff6-e093bd9b38f1"
      },
      "source": [
        "# print predicted scores\n",
        "predictions[recommended_book_ids]"
      ],
      "execution_count": 33,
      "outputs": [
        {
          "output_type": "execute_result",
          "data": {
            "text/plain": [
              "array([4.608378, 4.597233, 4.404887, 4.396012, 4.364162], dtype=float32)"
            ]
          },
          "metadata": {
            "tags": []
          },
          "execution_count": 33
        }
      ]
    },
    {
      "cell_type": "code",
      "metadata": {
        "id": "ydlZ0Sw0o3kK"
      },
      "source": [
        "!cp /content/gdrive/My\\ Drive/books.csv ."
      ],
      "execution_count": 41,
      "outputs": []
    },
    {
      "cell_type": "code",
      "metadata": {
        "colab": {
          "base_uri": "https://localhost:8080/",
          "height": 417
        },
        "id": "IOzC03l8dEB1",
        "outputId": "67733a5e-7bf9-4196-ed66-ff05d1a214d7"
      },
      "source": [
        "books = pd.read_csv('books.csv')\n",
        "books.head()"
      ],
      "execution_count": 42,
      "outputs": [
        {
          "output_type": "execute_result",
          "data": {
            "text/html": [
              "<div>\n",
              "<style scoped>\n",
              "    .dataframe tbody tr th:only-of-type {\n",
              "        vertical-align: middle;\n",
              "    }\n",
              "\n",
              "    .dataframe tbody tr th {\n",
              "        vertical-align: top;\n",
              "    }\n",
              "\n",
              "    .dataframe thead th {\n",
              "        text-align: right;\n",
              "    }\n",
              "</style>\n",
              "<table border=\"1\" class=\"dataframe\">\n",
              "  <thead>\n",
              "    <tr style=\"text-align: right;\">\n",
              "      <th></th>\n",
              "      <th>id</th>\n",
              "      <th>book_id</th>\n",
              "      <th>best_book_id</th>\n",
              "      <th>work_id</th>\n",
              "      <th>books_count</th>\n",
              "      <th>isbn</th>\n",
              "      <th>isbn13</th>\n",
              "      <th>authors</th>\n",
              "      <th>original_publication_year</th>\n",
              "      <th>original_title</th>\n",
              "      <th>title</th>\n",
              "      <th>language_code</th>\n",
              "      <th>average_rating</th>\n",
              "      <th>ratings_count</th>\n",
              "      <th>work_ratings_count</th>\n",
              "      <th>work_text_reviews_count</th>\n",
              "      <th>ratings_1</th>\n",
              "      <th>ratings_2</th>\n",
              "      <th>ratings_3</th>\n",
              "      <th>ratings_4</th>\n",
              "      <th>ratings_5</th>\n",
              "      <th>image_url</th>\n",
              "      <th>small_image_url</th>\n",
              "    </tr>\n",
              "  </thead>\n",
              "  <tbody>\n",
              "    <tr>\n",
              "      <th>0</th>\n",
              "      <td>1</td>\n",
              "      <td>2767052</td>\n",
              "      <td>2767052</td>\n",
              "      <td>2792775</td>\n",
              "      <td>272</td>\n",
              "      <td>439023483</td>\n",
              "      <td>9.780439e+12</td>\n",
              "      <td>Suzanne Collins</td>\n",
              "      <td>2008.0</td>\n",
              "      <td>The Hunger Games</td>\n",
              "      <td>The Hunger Games (The Hunger Games, #1)</td>\n",
              "      <td>eng</td>\n",
              "      <td>4.34</td>\n",
              "      <td>4780653</td>\n",
              "      <td>4942365</td>\n",
              "      <td>155254</td>\n",
              "      <td>66715</td>\n",
              "      <td>127936</td>\n",
              "      <td>560092</td>\n",
              "      <td>1481305</td>\n",
              "      <td>2706317</td>\n",
              "      <td>https://images.gr-assets.com/books/1447303603m...</td>\n",
              "      <td>https://images.gr-assets.com/books/1447303603s...</td>\n",
              "    </tr>\n",
              "    <tr>\n",
              "      <th>1</th>\n",
              "      <td>2</td>\n",
              "      <td>3</td>\n",
              "      <td>3</td>\n",
              "      <td>4640799</td>\n",
              "      <td>491</td>\n",
              "      <td>439554934</td>\n",
              "      <td>9.780440e+12</td>\n",
              "      <td>J.K. Rowling, Mary GrandPré</td>\n",
              "      <td>1997.0</td>\n",
              "      <td>Harry Potter and the Philosopher's Stone</td>\n",
              "      <td>Harry Potter and the Sorcerer's Stone (Harry P...</td>\n",
              "      <td>eng</td>\n",
              "      <td>4.44</td>\n",
              "      <td>4602479</td>\n",
              "      <td>4800065</td>\n",
              "      <td>75867</td>\n",
              "      <td>75504</td>\n",
              "      <td>101676</td>\n",
              "      <td>455024</td>\n",
              "      <td>1156318</td>\n",
              "      <td>3011543</td>\n",
              "      <td>https://images.gr-assets.com/books/1474154022m...</td>\n",
              "      <td>https://images.gr-assets.com/books/1474154022s...</td>\n",
              "    </tr>\n",
              "    <tr>\n",
              "      <th>2</th>\n",
              "      <td>3</td>\n",
              "      <td>41865</td>\n",
              "      <td>41865</td>\n",
              "      <td>3212258</td>\n",
              "      <td>226</td>\n",
              "      <td>316015849</td>\n",
              "      <td>9.780316e+12</td>\n",
              "      <td>Stephenie Meyer</td>\n",
              "      <td>2005.0</td>\n",
              "      <td>Twilight</td>\n",
              "      <td>Twilight (Twilight, #1)</td>\n",
              "      <td>en-US</td>\n",
              "      <td>3.57</td>\n",
              "      <td>3866839</td>\n",
              "      <td>3916824</td>\n",
              "      <td>95009</td>\n",
              "      <td>456191</td>\n",
              "      <td>436802</td>\n",
              "      <td>793319</td>\n",
              "      <td>875073</td>\n",
              "      <td>1355439</td>\n",
              "      <td>https://images.gr-assets.com/books/1361039443m...</td>\n",
              "      <td>https://images.gr-assets.com/books/1361039443s...</td>\n",
              "    </tr>\n",
              "    <tr>\n",
              "      <th>3</th>\n",
              "      <td>4</td>\n",
              "      <td>2657</td>\n",
              "      <td>2657</td>\n",
              "      <td>3275794</td>\n",
              "      <td>487</td>\n",
              "      <td>61120081</td>\n",
              "      <td>9.780061e+12</td>\n",
              "      <td>Harper Lee</td>\n",
              "      <td>1960.0</td>\n",
              "      <td>To Kill a Mockingbird</td>\n",
              "      <td>To Kill a Mockingbird</td>\n",
              "      <td>eng</td>\n",
              "      <td>4.25</td>\n",
              "      <td>3198671</td>\n",
              "      <td>3340896</td>\n",
              "      <td>72586</td>\n",
              "      <td>60427</td>\n",
              "      <td>117415</td>\n",
              "      <td>446835</td>\n",
              "      <td>1001952</td>\n",
              "      <td>1714267</td>\n",
              "      <td>https://images.gr-assets.com/books/1361975680m...</td>\n",
              "      <td>https://images.gr-assets.com/books/1361975680s...</td>\n",
              "    </tr>\n",
              "    <tr>\n",
              "      <th>4</th>\n",
              "      <td>5</td>\n",
              "      <td>4671</td>\n",
              "      <td>4671</td>\n",
              "      <td>245494</td>\n",
              "      <td>1356</td>\n",
              "      <td>743273567</td>\n",
              "      <td>9.780743e+12</td>\n",
              "      <td>F. Scott Fitzgerald</td>\n",
              "      <td>1925.0</td>\n",
              "      <td>The Great Gatsby</td>\n",
              "      <td>The Great Gatsby</td>\n",
              "      <td>eng</td>\n",
              "      <td>3.89</td>\n",
              "      <td>2683664</td>\n",
              "      <td>2773745</td>\n",
              "      <td>51992</td>\n",
              "      <td>86236</td>\n",
              "      <td>197621</td>\n",
              "      <td>606158</td>\n",
              "      <td>936012</td>\n",
              "      <td>947718</td>\n",
              "      <td>https://images.gr-assets.com/books/1490528560m...</td>\n",
              "      <td>https://images.gr-assets.com/books/1490528560s...</td>\n",
              "    </tr>\n",
              "  </tbody>\n",
              "</table>\n",
              "</div>"
            ],
            "text/plain": [
              "   id  ...                                    small_image_url\n",
              "0   1  ...  https://images.gr-assets.com/books/1447303603s...\n",
              "1   2  ...  https://images.gr-assets.com/books/1474154022s...\n",
              "2   3  ...  https://images.gr-assets.com/books/1361039443s...\n",
              "3   4  ...  https://images.gr-assets.com/books/1361975680s...\n",
              "4   5  ...  https://images.gr-assets.com/books/1490528560s...\n",
              "\n",
              "[5 rows x 23 columns]"
            ]
          },
          "metadata": {
            "tags": []
          },
          "execution_count": 42
        }
      ]
    },
    {
      "cell_type": "code",
      "metadata": {
        "colab": {
          "base_uri": "https://localhost:8080/",
          "height": 367
        },
        "id": "q13pL7HXdEB2",
        "outputId": "a8e9b730-88c5-4e2b-a30d-adf1f50e96be"
      },
      "source": [
        "books[books['id'].isin(recommended_book_ids)]"
      ],
      "execution_count": 43,
      "outputs": [
        {
          "output_type": "execute_result",
          "data": {
            "text/html": [
              "<div>\n",
              "<style scoped>\n",
              "    .dataframe tbody tr th:only-of-type {\n",
              "        vertical-align: middle;\n",
              "    }\n",
              "\n",
              "    .dataframe tbody tr th {\n",
              "        vertical-align: top;\n",
              "    }\n",
              "\n",
              "    .dataframe thead th {\n",
              "        text-align: right;\n",
              "    }\n",
              "</style>\n",
              "<table border=\"1\" class=\"dataframe\">\n",
              "  <thead>\n",
              "    <tr style=\"text-align: right;\">\n",
              "      <th></th>\n",
              "      <th>id</th>\n",
              "      <th>book_id</th>\n",
              "      <th>best_book_id</th>\n",
              "      <th>work_id</th>\n",
              "      <th>books_count</th>\n",
              "      <th>isbn</th>\n",
              "      <th>isbn13</th>\n",
              "      <th>authors</th>\n",
              "      <th>original_publication_year</th>\n",
              "      <th>original_title</th>\n",
              "      <th>title</th>\n",
              "      <th>language_code</th>\n",
              "      <th>average_rating</th>\n",
              "      <th>ratings_count</th>\n",
              "      <th>work_ratings_count</th>\n",
              "      <th>work_text_reviews_count</th>\n",
              "      <th>ratings_1</th>\n",
              "      <th>ratings_2</th>\n",
              "      <th>ratings_3</th>\n",
              "      <th>ratings_4</th>\n",
              "      <th>ratings_5</th>\n",
              "      <th>image_url</th>\n",
              "      <th>small_image_url</th>\n",
              "    </tr>\n",
              "  </thead>\n",
              "  <tbody>\n",
              "    <tr>\n",
              "      <th>7151</th>\n",
              "      <td>7152</td>\n",
              "      <td>625554</td>\n",
              "      <td>20178265</td>\n",
              "      <td>611921</td>\n",
              "      <td>8</td>\n",
              "      <td>159038363X</td>\n",
              "      <td>9.781590e+12</td>\n",
              "      <td>Gerald N. Lund</td>\n",
              "      <td>1994.0</td>\n",
              "      <td>The Work and the Glory, Vol. 1: Pillar of Light</td>\n",
              "      <td>Pillar of Light (The Work and the Glory, #1)</td>\n",
              "      <td>NaN</td>\n",
              "      <td>4.28</td>\n",
              "      <td>12722</td>\n",
              "      <td>14255</td>\n",
              "      <td>894</td>\n",
              "      <td>117</td>\n",
              "      <td>337</td>\n",
              "      <td>1951</td>\n",
              "      <td>4949</td>\n",
              "      <td>6901</td>\n",
              "      <td>https://images.gr-assets.com/books/1416338631m...</td>\n",
              "      <td>https://images.gr-assets.com/books/1416338631s...</td>\n",
              "    </tr>\n",
              "    <tr>\n",
              "      <th>7637</th>\n",
              "      <td>7638</td>\n",
              "      <td>12009</td>\n",
              "      <td>12009</td>\n",
              "      <td>2465248</td>\n",
              "      <td>28</td>\n",
              "      <td>1597800449</td>\n",
              "      <td>9.781598e+12</td>\n",
              "      <td>Iain M. Banks</td>\n",
              "      <td>2004.0</td>\n",
              "      <td>The Algebraist</td>\n",
              "      <td>The Algebraist</td>\n",
              "      <td>eng</td>\n",
              "      <td>3.99</td>\n",
              "      <td>13210</td>\n",
              "      <td>14793</td>\n",
              "      <td>606</td>\n",
              "      <td>185</td>\n",
              "      <td>684</td>\n",
              "      <td>3067</td>\n",
              "      <td>5984</td>\n",
              "      <td>4873</td>\n",
              "      <td>https://s.gr-assets.com/assets/nophoto/book/11...</td>\n",
              "      <td>https://s.gr-assets.com/assets/nophoto/book/50...</td>\n",
              "    </tr>\n",
              "    <tr>\n",
              "      <th>8257</th>\n",
              "      <td>8258</td>\n",
              "      <td>18594594</td>\n",
              "      <td>18594594</td>\n",
              "      <td>26341000</td>\n",
              "      <td>41</td>\n",
              "      <td>345547497</td>\n",
              "      <td>9.780346e+12</td>\n",
              "      <td>Karin Slaughter</td>\n",
              "      <td>2014.0</td>\n",
              "      <td>Cop Town</td>\n",
              "      <td>Cop Town</td>\n",
              "      <td>eng</td>\n",
              "      <td>3.88</td>\n",
              "      <td>10660</td>\n",
              "      <td>13997</td>\n",
              "      <td>1704</td>\n",
              "      <td>274</td>\n",
              "      <td>780</td>\n",
              "      <td>3299</td>\n",
              "      <td>5612</td>\n",
              "      <td>4032</td>\n",
              "      <td>https://images.gr-assets.com/books/1384822680m...</td>\n",
              "      <td>https://images.gr-assets.com/books/1384822680s...</td>\n",
              "    </tr>\n",
              "    <tr>\n",
              "      <th>9840</th>\n",
              "      <td>9841</td>\n",
              "      <td>15101</td>\n",
              "      <td>15101</td>\n",
              "      <td>876908</td>\n",
              "      <td>55</td>\n",
              "      <td>380815923</td>\n",
              "      <td>9.780381e+12</td>\n",
              "      <td>Joanne Harris</td>\n",
              "      <td>1999.0</td>\n",
              "      <td>Blackberry Wine</td>\n",
              "      <td>Blackberry Wine</td>\n",
              "      <td>en-US</td>\n",
              "      <td>3.78</td>\n",
              "      <td>9558</td>\n",
              "      <td>11107</td>\n",
              "      <td>699</td>\n",
              "      <td>163</td>\n",
              "      <td>755</td>\n",
              "      <td>3215</td>\n",
              "      <td>4220</td>\n",
              "      <td>2754</td>\n",
              "      <td>https://s.gr-assets.com/assets/nophoto/book/11...</td>\n",
              "      <td>https://s.gr-assets.com/assets/nophoto/book/50...</td>\n",
              "    </tr>\n",
              "    <tr>\n",
              "      <th>9871</th>\n",
              "      <td>9872</td>\n",
              "      <td>24480276</td>\n",
              "      <td>24480276</td>\n",
              "      <td>44074400</td>\n",
              "      <td>45</td>\n",
              "      <td>NaN</td>\n",
              "      <td>9.781475e+12</td>\n",
              "      <td>Laura  Barnett</td>\n",
              "      <td>2015.0</td>\n",
              "      <td>The Versions of Us</td>\n",
              "      <td>The Versions of Us</td>\n",
              "      <td>eng</td>\n",
              "      <td>3.57</td>\n",
              "      <td>8477</td>\n",
              "      <td>11346</td>\n",
              "      <td>1685</td>\n",
              "      <td>382</td>\n",
              "      <td>1170</td>\n",
              "      <td>3457</td>\n",
              "      <td>4250</td>\n",
              "      <td>2087</td>\n",
              "      <td>https://images.gr-assets.com/books/1423155390m...</td>\n",
              "      <td>https://images.gr-assets.com/books/1423155390s...</td>\n",
              "    </tr>\n",
              "  </tbody>\n",
              "</table>\n",
              "</div>"
            ],
            "text/plain": [
              "        id  ...                                    small_image_url\n",
              "7151  7152  ...  https://images.gr-assets.com/books/1416338631s...\n",
              "7637  7638  ...  https://s.gr-assets.com/assets/nophoto/book/50...\n",
              "8257  8258  ...  https://images.gr-assets.com/books/1384822680s...\n",
              "9840  9841  ...  https://s.gr-assets.com/assets/nophoto/book/50...\n",
              "9871  9872  ...  https://images.gr-assets.com/books/1423155390s...\n",
              "\n",
              "[5 rows x 23 columns]"
            ]
          },
          "metadata": {
            "tags": []
          },
          "execution_count": 43
        }
      ]
    },
    {
      "cell_type": "code",
      "metadata": {
        "id": "QQYF5ivsdEB4"
      },
      "source": [
        ""
      ],
      "execution_count": null,
      "outputs": []
    }
  ]
}